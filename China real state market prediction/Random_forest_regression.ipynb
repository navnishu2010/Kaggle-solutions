{
 "cells": [
  {
   "cell_type": "code",
   "execution_count": 1,
   "id": "32d3821f-362b-4bcb-821b-53017f980927",
   "metadata": {},
   "outputs": [],
   "source": [
    "from math import *\n",
    "import numpy as np\n",
    "import matplotlib.pyplot as plt\n",
    "import torch\n",
    "import pandas as pd"
   ]
  },
  {
   "cell_type": "markdown",
   "id": "dae3d361-47a8-4158-a6e3-0ee2cc820933",
   "metadata": {},
   "source": [
    "#### Loading csv file"
   ]
  },
  {
   "cell_type": "code",
   "execution_count": 2,
   "id": "b53572cc-55a4-4a2c-85fb-7ec2f6302c5d",
   "metadata": {},
   "outputs": [],
   "source": [
    "def loadfile(add, fname):\n",
    "    df = pd.read_csv(add + fname)\n",
    "    return(df)\n",
    "\n"
   ]
  },
  {
   "cell_type": "code",
   "execution_count": null,
   "id": "d9398a66-b48a-4a69-8ad4-192f63be07ac",
   "metadata": {},
   "outputs": [],
   "source": []
  },
  {
   "cell_type": "code",
   "execution_count": null,
   "id": "f48a801b-0dbd-4f6a-9c35-cc73eae6b011",
   "metadata": {},
   "outputs": [],
   "source": []
  },
  {
   "cell_type": "code",
   "execution_count": null,
   "id": "78ee9e50-3689-4e7d-8f82-bf7726a18430",
   "metadata": {},
   "outputs": [],
   "source": []
  },
  {
   "cell_type": "code",
   "execution_count": null,
   "id": "00c3fa98-893b-49b4-8d0a-e8edf602768c",
   "metadata": {},
   "outputs": [],
   "source": []
  },
  {
   "cell_type": "code",
   "execution_count": null,
   "id": "6b84b963-22fa-4c34-a00d-1133cb9ce91a",
   "metadata": {},
   "outputs": [],
   "source": []
  },
  {
   "cell_type": "code",
   "execution_count": null,
   "id": "c9243036-2e7d-4aae-81e9-9d35f13b087a",
   "metadata": {},
   "outputs": [],
   "source": []
  },
  {
   "cell_type": "code",
   "execution_count": null,
   "id": "f5fb1e74-1315-49ea-a4f3-aff6198c8f9b",
   "metadata": {},
   "outputs": [],
   "source": []
  },
  {
   "cell_type": "code",
   "execution_count": null,
   "id": "ed34dbe4-b970-427c-8549-e3820b992c9d",
   "metadata": {},
   "outputs": [],
   "source": []
  },
  {
   "cell_type": "code",
   "execution_count": null,
   "id": "2adfc583-f919-4ed7-bb95-79a5685b7c45",
   "metadata": {},
   "outputs": [],
   "source": []
  },
  {
   "cell_type": "code",
   "execution_count": null,
   "id": "a998984f-85c3-4211-89f4-8f76e3af6ee9",
   "metadata": {},
   "outputs": [],
   "source": []
  }
 ],
 "metadata": {
  "kernelspec": {
   "display_name": "Python 3 (ipykernel)",
   "language": "python",
   "name": "python3"
  },
  "language_info": {
   "codemirror_mode": {
    "name": "ipython",
    "version": 3
   },
   "file_extension": ".py",
   "mimetype": "text/x-python",
   "name": "python",
   "nbconvert_exporter": "python",
   "pygments_lexer": "ipython3",
   "version": "3.10.18"
  }
 },
 "nbformat": 4,
 "nbformat_minor": 5
}
